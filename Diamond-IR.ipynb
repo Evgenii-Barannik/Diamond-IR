{
 "cells": [
  {
   "cell_type": "code",
   "execution_count": 1,
   "id": "unnecessary-artwork",
   "metadata": {},
   "outputs": [],
   "source": [
    "from ipywidgets import interact\n",
    "import ipywidgets as widgets\n",
    "import math\n",
    "import pandas as pd\n",
    "import seaborn as sns\n",
    "import matplotlib.pyplot as plt\n",
    "\n",
    "sns.set_theme(style=\"darkgrid\")"
   ]
  },
  {
   "cell_type": "code",
   "execution_count": 20,
   "id": "moral-movement",
   "metadata": {},
   "outputs": [],
   "source": [
    "spectra = pd.read_csv(\"Data/Absorption_spectra_fast.csv\", sep=\",\")\n",
    "\n",
    "def diamond_spectrum(A, B, C, reverse, zoom):\n",
    "    \"\"\"Function to plot diamond IR absorption spectrum.\n",
    "    A, B, C are A, B, C defect concentrations in ppm respectively. \"\"\"\n",
    "    \n",
    "    spectrum = pd.DataFrame(data={\n",
    "                'Wavenumber':spectra['Wavenumber'],\n",
    "                'Absorption coefficient':\n",
    "                          spectra['Diamond_abs']\n",
    "                    + A * spectra[\"A_defect_abs\"]\n",
    "                    + B * spectra[\"B_defect_abs\"]\n",
    "                    + C * spectra[\"C_defect_abs\"]\n",
    "                })\n",
    "    \n",
    "    ax = sns.lineplot(data=spectrum, x=\"Wavenumber\", y=\"Absorption coefficient\", color='b')\n",
    "    ax.set_xlabel('Wavenumber, cm-1')\n",
    "    ax.set_ylabel('Absorption coefficient, cm-1')\n",
    "    \n",
    "    if zoom:\n",
    "        wavenumber_range = (900, 1400)\n",
    "    else:\n",
    "        wavenumber_range = (600, 4000)\n",
    "    \n",
    "    if reverse:\n",
    "        ax.set_xlim(wavenumber_range[1], wavenumber_range[0])\n",
    "    else:\n",
    "        ax.set_xlim(wavenumber_range[0], wavenumber_range[1])\n",
    "        \n",
    "    plt.figure()"
   ]
  },
  {
   "cell_type": "code",
   "execution_count": 22,
   "id": "assigned-nothing",
   "metadata": {},
   "outputs": [
    {
     "data": {
      "application/vnd.jupyter.widget-view+json": {
       "model_id": "a2dbbbe3a3bf49a081f562ae2216101a",
       "version_major": 2,
       "version_minor": 0
      },
      "text/plain": [
       "interactive(children=(IntSlider(value=20, description='A', max=200, step=5), IntSlider(value=20, description='…"
      ]
     },
     "metadata": {},
     "output_type": "display_data"
    },
    {
     "data": {
      "text/plain": [
       "<function __main__.diamond_spectrum(A, B, C, reverse, zoom)>"
      ]
     },
     "execution_count": 22,
     "metadata": {},
     "output_type": "execute_result"
    }
   ],
   "source": [
    "interact(diamond_spectrum,\n",
    "    A=widgets.IntSlider(min=0, max=200, step=5, value=20),\n",
    "    B=widgets.IntSlider(min=0, max=200, step=5, value=20),\n",
    "    C=widgets.IntSlider(min=0, max=200, step=5, value=0),\n",
    "    reverse = False,\n",
    "    zoom = False)"
   ]
  },
  {
   "cell_type": "code",
   "execution_count": null,
   "id": "3f58e1dc-ee40-48ee-a36b-b6ad9cf45f65",
   "metadata": {},
   "outputs": [],
   "source": []
  }
 ],
 "metadata": {
  "kernelspec": {
   "display_name": "Python 3 (ipykernel)",
   "language": "python",
   "name": "python3"
  },
  "language_info": {
   "codemirror_mode": {
    "name": "ipython",
    "version": 3
   },
   "file_extension": ".py",
   "mimetype": "text/x-python",
   "name": "python",
   "nbconvert_exporter": "python",
   "pygments_lexer": "ipython3",
   "version": "3.8.12"
  }
 },
 "nbformat": 4,
 "nbformat_minor": 5
}
